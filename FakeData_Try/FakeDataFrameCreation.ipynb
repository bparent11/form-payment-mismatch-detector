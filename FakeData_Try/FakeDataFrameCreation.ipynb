{
 "cells": [
  {
   "cell_type": "code",
   "execution_count": 16,
   "metadata": {},
   "outputs": [],
   "source": [
    "import pandas as pd\n",
    "import random"
   ]
  },
  {
   "cell_type": "code",
   "execution_count": 17,
   "metadata": {},
   "outputs": [],
   "source": [
    "prenoms = [\n",
    "    \"Bruce\", \"Clark\", \"Diana\", \"Peter\", \"Tony\", \n",
    "    \"Natasha\", \"Steve\", \"Logan\", \"Wade\", \"Jean\", \n",
    "    \"Barry\", \"Hal\", \"Arthur\", \"Selina\", \"Stephen\", \n",
    "    \"Thor\", \"Wanda\", \"Charles\", \"Scott\", \"Victor\"\n",
    "]\n",
    "\n",
    "noms = [\n",
    "    \"Wayne\", \"Kent\", \"Prince\", \"Parker\", \"Stark\", \n",
    "    \"Romanoff\", \"Rogers\", \"Howlett\", \"Wilson\", \"Grey\", \n",
    "    \"Allen\", \"Jordan\", \"Curry\", \"Kyle\", \"Strange\", \n",
    "    \"Odinson\", \"Maximoff\", \"Xavier\", \"Summers\", \"Von Doom\"\n",
    "]\n",
    "\n",
    "new_prenoms = [\n",
    "    \"Felicity\", \"Oliver\", \"Kara\", \"Matt\", \"Jessica\", \n",
    "    \"Luke\", \"Danny\", \"Frank\", \"Elektra\", \"T'Challa\", \n",
    "    \"Gamora\", \"Groot\", \"Rocket\", \"Star-Lord\", \"Victor\", \"Clark\"\n",
    "]\n",
    "\n",
    "new_noms = [\n",
    "    \"Smoak\", \"Queen\", \"Danvers\", \"Murdock\", \"Jones\", \n",
    "    \"Cage\", \"Rand\", \"Castle\", \"Natchios\", \"T'Challa\", \n",
    "    \"Zen-Whoberi\", \"Groot\", \"Raccoon\", \"Quill\", \"Von Doom\", \"Kent\"\n",
    "]\n"
   ]
  },
  {
   "cell_type": "code",
   "execution_count": 18,
   "metadata": {},
   "outputs": [],
   "source": [
    "cotisants = pd.DataFrame({'Nom' : noms, 'Prénom' : prenoms}) #df that contains informations about those who have paid the licence fee\n",
    "reponsesForm = pd.DataFrame({'Nom' : new_noms, 'Prénom' : new_prenoms}) #df that contains informations about those who have said that they wanted to be a part of the event (accessible with the licence only)"
   ]
  },
  {
   "cell_type": "code",
   "execution_count": 19,
   "metadata": {},
   "outputs": [
    {
     "name": "stdout",
     "output_type": "stream",
     "text": [
      "         Nom   Prénom\n",
      "0      Wayne    Bruce\n",
      "1       Kent    Clark\n",
      "2     Prince    Diana\n",
      "3     Parker    Peter\n",
      "4      Stark     Tony\n",
      "5   Romanoff  Natasha\n",
      "6     Rogers    Steve\n",
      "7    Howlett    Logan\n",
      "8     Wilson     Wade\n",
      "9       Grey     Jean\n",
      "10     Allen    Barry\n",
      "11    Jordan      Hal\n",
      "12     Curry   Arthur\n",
      "13      Kyle   Selina\n",
      "14   Strange  Stephen\n",
      "15   Odinson     Thor\n",
      "16  Maximoff    Wanda\n",
      "17    Xavier  Charles\n",
      "18   Summers    Scott\n",
      "19  Von Doom   Victor\n"
     ]
    }
   ],
   "source": [
    "print(cotisants)"
   ]
  },
  {
   "cell_type": "code",
   "execution_count": 20,
   "metadata": {},
   "outputs": [
    {
     "name": "stdout",
     "output_type": "stream",
     "text": [
      "            Nom     Prénom\n",
      "0         Smoak   Felicity\n",
      "1         Queen     Oliver\n",
      "2       Danvers       Kara\n",
      "3       Murdock       Matt\n",
      "4         Jones    Jessica\n",
      "5          Cage       Luke\n",
      "6          Rand      Danny\n",
      "7        Castle      Frank\n",
      "8      Natchios    Elektra\n",
      "9      T'Challa   T'Challa\n",
      "10  Zen-Whoberi     Gamora\n",
      "11        Groot      Groot\n",
      "12      Raccoon     Rocket\n",
      "13        Quill  Star-Lord\n",
      "14     Von Doom     Victor\n",
      "15         Kent      Clark\n"
     ]
    }
   ],
   "source": [
    "print(reponsesForm)"
   ]
  },
  {
   "cell_type": "code",
   "execution_count": 21,
   "metadata": {},
   "outputs": [],
   "source": [
    "cotisants.to_excel(\"data/cotisants.xlsx\", index=False)\n",
    "reponsesForm.to_excel('data/reponsesForm.xlsx', index=False)"
   ]
  },
  {
   "cell_type": "code",
   "execution_count": null,
   "metadata": {},
   "outputs": [],
   "source": []
  }
 ],
 "metadata": {
  "kernelspec": {
   "display_name": "base",
   "language": "python",
   "name": "python3"
  },
  "language_info": {
   "codemirror_mode": {
    "name": "ipython",
    "version": 3
   },
   "file_extension": ".py",
   "mimetype": "text/x-python",
   "name": "python",
   "nbconvert_exporter": "python",
   "pygments_lexer": "ipython3",
   "version": "3.11.5"
  }
 },
 "nbformat": 4,
 "nbformat_minor": 2
}
