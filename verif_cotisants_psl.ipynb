{
 "cells": [
  {
   "cell_type": "code",
   "execution_count": 20,
   "metadata": {},
   "outputs": [],
   "source": [
    "import pandas as pd\n",
    "import numpy as np"
   ]
  },
  {
   "cell_type": "code",
   "execution_count": 21,
   "metadata": {},
   "outputs": [
    {
     "data": {
      "text/html": [
       "<div>\n",
       "<style scoped>\n",
       "    .dataframe tbody tr th:only-of-type {\n",
       "        vertical-align: middle;\n",
       "    }\n",
       "\n",
       "    .dataframe tbody tr th {\n",
       "        vertical-align: top;\n",
       "    }\n",
       "\n",
       "    .dataframe thead th {\n",
       "        text-align: right;\n",
       "    }\n",
       "</style>\n",
       "<table border=\"1\" class=\"dataframe\">\n",
       "  <thead>\n",
       "    <tr style=\"text-align: right;\">\n",
       "      <th></th>\n",
       "      <th>Référence commande</th>\n",
       "      <th>Date de la commande</th>\n",
       "      <th>Statut de la commande</th>\n",
       "      <th>Nom adhérent</th>\n",
       "      <th>Prénom adhérent</th>\n",
       "      <th>Carte d'adhérent</th>\n",
       "      <th>Nom payeur</th>\n",
       "      <th>Prénom payeur</th>\n",
       "      <th>Email payeur</th>\n",
       "      <th>Raison sociale</th>\n",
       "      <th>Moyen de paiement</th>\n",
       "      <th>Tarif</th>\n",
       "      <th>Montant tarif</th>\n",
       "      <th>Code Promo</th>\n",
       "      <th>Montant code promo</th>\n",
       "      <th>Commentaires</th>\n",
       "    </tr>\n",
       "  </thead>\n",
       "  <tbody>\n",
       "    <tr>\n",
       "      <th>0</th>\n",
       "      <td>101801293</td>\n",
       "      <td>2024-09-12 14:44:00</td>\n",
       "      <td>Validé</td>\n",
       "      <td>Kervin</td>\n",
       "      <td>Chauke</td>\n",
       "      <td>Voir la carte d'adhérent - PDF</td>\n",
       "      <td>Kervin</td>\n",
       "      <td>Chauke</td>\n",
       "      <td>chaukekervin@gmail.com</td>\n",
       "      <td>NaN</td>\n",
       "      <td>Carte bancaire</td>\n",
       "      <td>Cotisation PSL Sport</td>\n",
       "      <td>20</td>\n",
       "      <td>NaN</td>\n",
       "      <td>NaN</td>\n",
       "      <td>NaN</td>\n",
       "    </tr>\n",
       "    <tr>\n",
       "      <th>1</th>\n",
       "      <td>101772443</td>\n",
       "      <td>2024-09-12 11:30:00</td>\n",
       "      <td>Validé</td>\n",
       "      <td>ROBERT</td>\n",
       "      <td>Quentin</td>\n",
       "      <td>Voir la carte d'adhérent - PDF</td>\n",
       "      <td>ROBERT</td>\n",
       "      <td>Quentin</td>\n",
       "      <td>quentin.robert@etu.minesparis.psl.eu</td>\n",
       "      <td>NaN</td>\n",
       "      <td>Carte bancaire</td>\n",
       "      <td>Cotisation PSL Sport</td>\n",
       "      <td>20</td>\n",
       "      <td>NaN</td>\n",
       "      <td>NaN</td>\n",
       "      <td>NaN</td>\n",
       "    </tr>\n",
       "  </tbody>\n",
       "</table>\n",
       "</div>"
      ],
      "text/plain": [
       "   Référence commande Date de la commande Statut de la commande Nom adhérent  \\\n",
       "0           101801293 2024-09-12 14:44:00                Validé       Kervin   \n",
       "1           101772443 2024-09-12 11:30:00                Validé       ROBERT   \n",
       "\n",
       "  Prénom adhérent                Carte d'adhérent Nom payeur Prénom payeur  \\\n",
       "0          Chauke  Voir la carte d'adhérent - PDF     Kervin        Chauke   \n",
       "1         Quentin  Voir la carte d'adhérent - PDF     ROBERT       Quentin   \n",
       "\n",
       "                           Email payeur  Raison sociale Moyen de paiement  \\\n",
       "0                chaukekervin@gmail.com             NaN    Carte bancaire   \n",
       "1  quentin.robert@etu.minesparis.psl.eu             NaN    Carte bancaire   \n",
       "\n",
       "                  Tarif  Montant tarif  Code Promo  Montant code promo  \\\n",
       "0  Cotisation PSL Sport             20         NaN                 NaN   \n",
       "1  Cotisation PSL Sport             20         NaN                 NaN   \n",
       "\n",
       "   Commentaires  \n",
       "0           NaN  \n",
       "1           NaN  "
      ]
     },
     "execution_count": 21,
     "metadata": {},
     "output_type": "execute_result"
    }
   ],
   "source": [
    "cotisantsPSL = pd.read_excel('cotisantsPSL.xlsx')\n",
    "cotisantsPSL.head(2)"
   ]
  },
  {
   "cell_type": "code",
   "execution_count": 22,
   "metadata": {},
   "outputs": [
    {
     "data": {
      "text/plain": [
       "['Kervin Chauke',\n",
       " 'ROBERT Quentin',\n",
       " 'Bourgarel Joseph',\n",
       " 'TANNOURY Charbel',\n",
       " 'PICAMAL Fanny']"
      ]
     },
     "execution_count": 22,
     "metadata": {},
     "output_type": "execute_result"
    }
   ],
   "source": [
    "cotisantsPSL = pd.DataFrame({\"Nom\" : cotisantsPSL['Nom adhérent'], \"Prénom\" : cotisantsPSL['Prénom adhérent']})\n",
    "cotisantsPSL['Nom Complet'] = cotisantsPSL['Nom'].str.strip() + ' ' + cotisantsPSL['Prénom'].str.strip()\n",
    "list_cotisantsPSL = cotisantsPSL['Nom Complet'].tolist()\n",
    "list_cotisantsPSL[:5]"
   ]
  },
  {
   "cell_type": "code",
   "execution_count": 25,
   "metadata": {},
   "outputs": [
    {
     "data": {
      "text/html": [
       "<div>\n",
       "<style scoped>\n",
       "    .dataframe tbody tr th:only-of-type {\n",
       "        vertical-align: middle;\n",
       "    }\n",
       "\n",
       "    .dataframe tbody tr th {\n",
       "        vertical-align: top;\n",
       "    }\n",
       "\n",
       "    .dataframe thead th {\n",
       "        text-align: right;\n",
       "    }\n",
       "</style>\n",
       "<table border=\"1\" class=\"dataframe\">\n",
       "  <thead>\n",
       "    <tr style=\"text-align: right;\">\n",
       "      <th></th>\n",
       "      <th>NOM</th>\n",
       "      <th>Prénom</th>\n",
       "      <th>Sexe</th>\n",
       "      <th>Genre</th>\n",
       "      <th>Adresse-mail</th>\n",
       "      <th>Numero de téléphone</th>\n",
       "      <th>Payé ?</th>\n",
       "      <th>Photo</th>\n",
       "      <th>Envoyé à PSL ?</th>\n",
       "      <th>Validé par PSL ?</th>\n",
       "    </tr>\n",
       "  </thead>\n",
       "  <tbody>\n",
       "    <tr>\n",
       "      <th>0</th>\n",
       "      <td>SMAIL</td>\n",
       "      <td>Samy</td>\n",
       "      <td>M</td>\n",
       "      <td>Monsieur</td>\n",
       "      <td>samy.smail@etu.minesparis.psl.eu</td>\n",
       "      <td>661454702</td>\n",
       "      <td>OUI</td>\n",
       "      <td>23smail - Samy Smail.jpg</td>\n",
       "      <td>OUI</td>\n",
       "      <td>En attente</td>\n",
       "    </tr>\n",
       "    <tr>\n",
       "      <th>1</th>\n",
       "      <td>SORIN</td>\n",
       "      <td>Lucile</td>\n",
       "      <td>F</td>\n",
       "      <td>Madame</td>\n",
       "      <td>lucile.sorin@etu.minesparis.psl.eu</td>\n",
       "      <td>682250149</td>\n",
       "      <td>OUI</td>\n",
       "      <td>IMG_5050 - Lucile Sorin.jpeg</td>\n",
       "      <td>OUI</td>\n",
       "      <td>En attente</td>\n",
       "    </tr>\n",
       "  </tbody>\n",
       "</table>\n",
       "</div>"
      ],
      "text/plain": [
       "     NOM  Prénom Sexe     Genre                        Adresse-mail  \\\n",
       "0  SMAIL    Samy    M  Monsieur    samy.smail@etu.minesparis.psl.eu   \n",
       "1  SORIN  Lucile    F    Madame  lucile.sorin@etu.minesparis.psl.eu   \n",
       "\n",
       "   Numero de téléphone Payé ?                         Photo  Envoyé à PSL ?  \\\n",
       "0            661454702     OUI      23smail - Samy Smail.jpg            OUI   \n",
       "1            682250149     OUI  IMG_5050 - Lucile Sorin.jpeg            OUI   \n",
       "\n",
       "  Validé par PSL ?   \n",
       "0       En attente   \n",
       "1       En attente   "
      ]
     },
     "execution_count": 25,
     "metadata": {},
     "output_type": "execute_result"
    }
   ],
   "source": [
    "form_answer = pd.read_excel('formResults.xlsx')\n",
    "form_answer.rename(columns={'Adresse mail ':'Adresse-mail'}, inplace=True)\n",
    "form_answer.head(2)"
   ]
  },
  {
   "cell_type": "code",
   "execution_count": 26,
   "metadata": {},
   "outputs": [
    {
     "data": {
      "text/plain": [
       "['SMAIL Samy',\n",
       " 'SORIN Lucile',\n",
       " 'LOSANTOS Solène',\n",
       " 'BELLICAUD Alice',\n",
       " 'ETHEIMER Paul']"
      ]
     },
     "execution_count": 26,
     "metadata": {},
     "output_type": "execute_result"
    }
   ],
   "source": [
    "form_answer = pd.DataFrame({\"Nom\" : form_answer['NOM'], \"Prénom\" : form_answer['Prénom']})\n",
    "form_answer['Nom complet'] = form_answer['Nom'].str.strip() + ' ' + form_answer['Prénom'].str.strip()\n",
    "list_form = form_answer['Nom complet'].tolist()\n",
    "list_form[:5]"
   ]
  },
  {
   "cell_type": "code",
   "execution_count": 28,
   "metadata": {},
   "outputs": [
    {
     "name": "stdout",
     "output_type": "stream",
     "text": [
      "Payeurs qui ont répondu au formulaire : ['ROBERT Quentin', 'STERIN Gaspard', 'DETEIX Joseph', 'SMAIL Samy', 'COTTY Clara', 'PICAMAL Fanny', 'BREUIL Paul', 'MEDDEB Paul', 'TANNOURY Charbel', 'CHAPELANT Antoine', 'DURAND Victor', 'DJOMBI MOUSSI Isabelle Alexandra Paola', 'BIKANDA Lara Maella']\n",
      "Répondants qui n'ont pas payé : ['DUPONT Ludivine', 'BRUNEL Lenny', 'KERVIN Chauke', 'ZENDRON Hubert', 'ETHEIMER Paul', 'HUCHER Lenny', 'CHABERT Cyrianne', 'ESCUDIE Pierre', 'LHAYANI Samuel', 'LOSANTOS Solène', 'DE FERRAN Louise', 'THÉROND Barnabé', 'SORIN Lucile', 'KLEINMANN Hanna', 'BOURGAREL Joseph', 'PIECHACZYK Antonin', 'BALZER Elke', 'ROYER Jules', 'CORMOULS HOULES Blanche', 'POUX Raphaël', 'GUICHAOUA Gwenn', 'DUBOIS Camille', 'BAUDRY Nolan', 'RASPILLER Franck', 'ANDRIEUX Theo', 'BELLICAUD Alice', 'ZADORA Martin']\n",
      "Payeurs qui n'ont pas répondu au formulaire : ['Brunel Lenny', 'Hadj Mohand Yanis', 'Vambert Tristan', 'Sorin Lucile', 'Escudié Pierre', 'Royer jules', 'Thérond Barnabé', 'De La Rochefordière Alfred', 'Balzer Elke', 'Kervin Chauke', 'Guichaoua Gwenn', 'Lhayani Samuel', 'Hucher Lenny', 'Dubois Camille', 'Etheimer Paul', 'Losantos Solène', 'Bourgarel Joseph', 'Kleinmann Hanna', 'Dupont Ludivine', 'Bellicaud Alice', 'de Ferran Louise']\n",
      "Nombre de payeurs qui ont répondu au formulaire : 13\n",
      "Nombre de répondants qui n'ont pas payé : 27\n",
      "Nombre de payeurs qui n'ont pas répondu au formulaire : 21\n"
     ]
    }
   ],
   "source": [
    "list_prompt_payer = []\n",
    "list_delinquent_payer = []\n",
    "list_prompt_payer_without_form = []\n",
    "\n",
    "list_prompt_payer = list(set(list_cotisantsPSL).intersection(set(list_form)))\n",
    "#we got the prompt payer, now we want to see who answered the form but didn't pay us. Then, we would want to see who paid but didn't fill the form.\n",
    "\n",
    "#those who answered the form without paying\n",
    "list_delinquent_payer = list(set(list_form).difference(set(list_cotisantsPSL)))\n",
    "\n",
    "#those who paid without filling the form\n",
    "list_prompt_payer_without_form = list(set(list_cotisantsPSL).difference(set(list_form)))\n",
    "\n",
    "#difference returns the elements that are present in the first object but not in the second.\n",
    "\n",
    "print(\"Payeurs qui ont répondu au formulaire :\", list_prompt_payer)\n",
    "print(\"Répondants qui n'ont pas payé :\", list_delinquent_payer)\n",
    "print(\"Payeurs qui n'ont pas répondu au formulaire :\", list_prompt_payer_without_form)\n",
    "print(\"Nombre de payeurs qui ont répondu au formulaire :\", len(list_prompt_payer))\n",
    "print(\"Nombre de répondants qui n'ont pas payé :\", len(list_delinquent_payer))\n",
    "print(\"Nombre de payeurs qui n'ont pas répondu au formulaire :\", len(list_prompt_payer_without_form))"
   ]
  },
  {
   "cell_type": "code",
   "execution_count": 29,
   "metadata": {},
   "outputs": [],
   "source": [
    "list_prompt_payer = pd.DataFrame(list_prompt_payer, columns=['email'])\n",
    "list_prompt_payer_without_form = pd.DataFrame(list_prompt_payer_without_form, columns=['email'])\n",
    "list_delinquent_payer = pd.DataFrame(list_delinquent_payer, columns=['email'])\n",
    "\n",
    "list_prompt_payer.to_json('data/prompt_payers.json', orient='records')\n",
    "list_prompt_payer_without_form.to_json('data/prompt_payers_without_form.json', orient='records')\n",
    "list_delinquent_payer.to_json('data/delinquent_payers.json', orient='records')"
   ]
  },
  {
   "cell_type": "code",
   "execution_count": null,
   "metadata": {},
   "outputs": [],
   "source": []
  }
 ],
 "metadata": {
  "kernelspec": {
   "display_name": "base",
   "language": "python",
   "name": "python3"
  },
  "language_info": {
   "codemirror_mode": {
    "name": "ipython",
    "version": 3
   },
   "file_extension": ".py",
   "mimetype": "text/x-python",
   "name": "python",
   "nbconvert_exporter": "python",
   "pygments_lexer": "ipython3",
   "version": "3.11.5"
  }
 },
 "nbformat": 4,
 "nbformat_minor": 2
}
