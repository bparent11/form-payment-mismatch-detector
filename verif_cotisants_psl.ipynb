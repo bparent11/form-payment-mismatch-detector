{
 "cells": [
  {
   "cell_type": "code",
   "execution_count": 64,
   "metadata": {},
   "outputs": [],
   "source": [
    "import pandas as pd\n",
    "import numpy as np\n",
    "import unicodedata as ud"
   ]
  },
  {
   "cell_type": "code",
   "execution_count": 65,
   "metadata": {},
   "outputs": [
    {
     "data": {
      "text/html": [
       "<div>\n",
       "<style scoped>\n",
       "    .dataframe tbody tr th:only-of-type {\n",
       "        vertical-align: middle;\n",
       "    }\n",
       "\n",
       "    .dataframe tbody tr th {\n",
       "        vertical-align: top;\n",
       "    }\n",
       "\n",
       "    .dataframe thead th {\n",
       "        text-align: right;\n",
       "    }\n",
       "</style>\n",
       "<table border=\"1\" class=\"dataframe\">\n",
       "  <thead>\n",
       "    <tr style=\"text-align: right;\">\n",
       "      <th></th>\n",
       "      <th>Référence commande</th>\n",
       "      <th>Date de la commande</th>\n",
       "      <th>Statut de la commande</th>\n",
       "      <th>Nom adhérent</th>\n",
       "      <th>Prénom adhérent</th>\n",
       "      <th>Carte d'adhérent</th>\n",
       "      <th>Nom payeur</th>\n",
       "      <th>Prénom payeur</th>\n",
       "      <th>Email payeur</th>\n",
       "      <th>Raison sociale</th>\n",
       "      <th>Moyen de paiement</th>\n",
       "      <th>Tarif</th>\n",
       "      <th>Montant tarif</th>\n",
       "      <th>Code Promo</th>\n",
       "      <th>Montant code promo</th>\n",
       "      <th>Commentaires</th>\n",
       "    </tr>\n",
       "  </thead>\n",
       "  <tbody>\n",
       "    <tr>\n",
       "      <th>0</th>\n",
       "      <td>101801293</td>\n",
       "      <td>2024-09-12 14:44:00</td>\n",
       "      <td>Validé</td>\n",
       "      <td>Kervin</td>\n",
       "      <td>Chauke</td>\n",
       "      <td>Voir la carte d'adhérent - PDF</td>\n",
       "      <td>Kervin</td>\n",
       "      <td>Chauke</td>\n",
       "      <td>chaukekervin@gmail.com</td>\n",
       "      <td>NaN</td>\n",
       "      <td>Carte bancaire</td>\n",
       "      <td>Cotisation PSL Sport</td>\n",
       "      <td>20</td>\n",
       "      <td>NaN</td>\n",
       "      <td>NaN</td>\n",
       "      <td>NaN</td>\n",
       "    </tr>\n",
       "    <tr>\n",
       "      <th>1</th>\n",
       "      <td>101772443</td>\n",
       "      <td>2024-09-12 11:30:00</td>\n",
       "      <td>Validé</td>\n",
       "      <td>ROBERT</td>\n",
       "      <td>Quentin</td>\n",
       "      <td>Voir la carte d'adhérent - PDF</td>\n",
       "      <td>ROBERT</td>\n",
       "      <td>Quentin</td>\n",
       "      <td>quentin.robert@etu.minesparis.psl.eu</td>\n",
       "      <td>NaN</td>\n",
       "      <td>Carte bancaire</td>\n",
       "      <td>Cotisation PSL Sport</td>\n",
       "      <td>20</td>\n",
       "      <td>NaN</td>\n",
       "      <td>NaN</td>\n",
       "      <td>NaN</td>\n",
       "    </tr>\n",
       "  </tbody>\n",
       "</table>\n",
       "</div>"
      ],
      "text/plain": [
       "   Référence commande Date de la commande Statut de la commande Nom adhérent  \\\n",
       "0           101801293 2024-09-12 14:44:00                Validé       Kervin   \n",
       "1           101772443 2024-09-12 11:30:00                Validé       ROBERT   \n",
       "\n",
       "  Prénom adhérent                Carte d'adhérent Nom payeur Prénom payeur  \\\n",
       "0          Chauke  Voir la carte d'adhérent - PDF     Kervin        Chauke   \n",
       "1         Quentin  Voir la carte d'adhérent - PDF     ROBERT       Quentin   \n",
       "\n",
       "                           Email payeur  Raison sociale Moyen de paiement  \\\n",
       "0                chaukekervin@gmail.com             NaN    Carte bancaire   \n",
       "1  quentin.robert@etu.minesparis.psl.eu             NaN    Carte bancaire   \n",
       "\n",
       "                  Tarif  Montant tarif  Code Promo  Montant code promo  \\\n",
       "0  Cotisation PSL Sport             20         NaN                 NaN   \n",
       "1  Cotisation PSL Sport             20         NaN                 NaN   \n",
       "\n",
       "   Commentaires  \n",
       "0           NaN  \n",
       "1           NaN  "
      ]
     },
     "execution_count": 65,
     "metadata": {},
     "output_type": "execute_result"
    }
   ],
   "source": [
    "cotisantsPSL = pd.read_excel('cotisantsPSL.xlsx')\n",
    "cotisantsPSL.head(2)"
   ]
  },
  {
   "cell_type": "code",
   "execution_count": 66,
   "metadata": {},
   "outputs": [],
   "source": [
    "def normalize_name(name):\n",
    "    return name.capitalize()\n",
    "\n",
    "def remove_accents(input_str):\n",
    "    # Normalisation en forme 'NFKD' pour décomposer les accents\n",
    "    nfkd_form = ud.normalize('NFKD', input_str)\n",
    "    # Garder uniquement les caractères non diacritiques (sans accent)\n",
    "    return ''.join([c for c in nfkd_form if not ud.combining(c)])"
   ]
  },
  {
   "cell_type": "code",
   "execution_count": 67,
   "metadata": {},
   "outputs": [
    {
     "data": {
      "text/plain": [
       "['Kervin Chauke',\n",
       " 'Robert Quentin',\n",
       " 'Bourgarel Joseph',\n",
       " 'Tannoury Charbel',\n",
       " 'Picamal Fanny']"
      ]
     },
     "execution_count": 67,
     "metadata": {},
     "output_type": "execute_result"
    }
   ],
   "source": [
    "cotisantsPSL = pd.DataFrame({\"Nom\" : cotisantsPSL['Nom adhérent'], \"Prénom\" : cotisantsPSL['Prénom adhérent']})\n",
    "\n",
    "cotisantsPSL['Nom'] = cotisantsPSL['Nom'].apply(normalize_name)\n",
    "cotisantsPSL['Prénom'] = cotisantsPSL['Prénom'].apply(normalize_name)\n",
    "\n",
    "cotisantsPSL['Nom'] = cotisantsPSL['Nom'].apply(remove_accents)\n",
    "cotisantsPSL['Prénom'] = cotisantsPSL['Prénom'].apply(remove_accents)\n",
    "\n",
    "cotisantsPSL['Nom Complet'] = cotisantsPSL['Nom'].str.strip() + ' ' + cotisantsPSL['Prénom'].str.strip()\n",
    "list_cotisantsPSL = cotisantsPSL['Nom Complet'].tolist()\n",
    "list_cotisantsPSL[:5]"
   ]
  },
  {
   "cell_type": "code",
   "execution_count": 68,
   "metadata": {},
   "outputs": [
    {
     "data": {
      "text/html": [
       "<div>\n",
       "<style scoped>\n",
       "    .dataframe tbody tr th:only-of-type {\n",
       "        vertical-align: middle;\n",
       "    }\n",
       "\n",
       "    .dataframe tbody tr th {\n",
       "        vertical-align: top;\n",
       "    }\n",
       "\n",
       "    .dataframe thead th {\n",
       "        text-align: right;\n",
       "    }\n",
       "</style>\n",
       "<table border=\"1\" class=\"dataframe\">\n",
       "  <thead>\n",
       "    <tr style=\"text-align: right;\">\n",
       "      <th></th>\n",
       "      <th>NOM</th>\n",
       "      <th>Prénom</th>\n",
       "      <th>Sexe</th>\n",
       "      <th>Genre</th>\n",
       "      <th>Adresse-mail</th>\n",
       "      <th>Numero de téléphone</th>\n",
       "      <th>Payé ?</th>\n",
       "      <th>Photo</th>\n",
       "      <th>Envoyé à PSL ?</th>\n",
       "      <th>Validé par PSL ?</th>\n",
       "    </tr>\n",
       "  </thead>\n",
       "  <tbody>\n",
       "    <tr>\n",
       "      <th>0</th>\n",
       "      <td>SMAIL</td>\n",
       "      <td>Samy</td>\n",
       "      <td>M</td>\n",
       "      <td>Monsieur</td>\n",
       "      <td>samy.smail@etu.minesparis.psl.eu</td>\n",
       "      <td>661454702</td>\n",
       "      <td>OUI</td>\n",
       "      <td>23smail - Samy Smail.jpg</td>\n",
       "      <td>OUI</td>\n",
       "      <td>En attente</td>\n",
       "    </tr>\n",
       "    <tr>\n",
       "      <th>1</th>\n",
       "      <td>SORIN</td>\n",
       "      <td>Lucile</td>\n",
       "      <td>F</td>\n",
       "      <td>Madame</td>\n",
       "      <td>lucile.sorin@etu.minesparis.psl.eu</td>\n",
       "      <td>682250149</td>\n",
       "      <td>OUI</td>\n",
       "      <td>IMG_5050 - Lucile Sorin.jpeg</td>\n",
       "      <td>OUI</td>\n",
       "      <td>En attente</td>\n",
       "    </tr>\n",
       "  </tbody>\n",
       "</table>\n",
       "</div>"
      ],
      "text/plain": [
       "     NOM  Prénom Sexe     Genre                        Adresse-mail  \\\n",
       "0  SMAIL    Samy    M  Monsieur    samy.smail@etu.minesparis.psl.eu   \n",
       "1  SORIN  Lucile    F    Madame  lucile.sorin@etu.minesparis.psl.eu   \n",
       "\n",
       "   Numero de téléphone Payé ?                         Photo  Envoyé à PSL ?  \\\n",
       "0            661454702     OUI      23smail - Samy Smail.jpg            OUI   \n",
       "1            682250149     OUI  IMG_5050 - Lucile Sorin.jpeg            OUI   \n",
       "\n",
       "  Validé par PSL ?   \n",
       "0       En attente   \n",
       "1       En attente   "
      ]
     },
     "execution_count": 68,
     "metadata": {},
     "output_type": "execute_result"
    }
   ],
   "source": [
    "form_answer = pd.read_excel('formResults.xlsx')\n",
    "form_answer.rename(columns={'Adresse mail ':'Adresse-mail'}, inplace=True)\n",
    "form_answer.head(2)"
   ]
  },
  {
   "cell_type": "code",
   "execution_count": 69,
   "metadata": {},
   "outputs": [
    {
     "data": {
      "text/plain": [
       "['Smail Samy',\n",
       " 'Sorin Lucile',\n",
       " 'Losantos Solene',\n",
       " 'Bellicaud Alice',\n",
       " 'Etheimer Paul']"
      ]
     },
     "execution_count": 69,
     "metadata": {},
     "output_type": "execute_result"
    }
   ],
   "source": [
    "form_answer = pd.DataFrame({\"Nom\" : form_answer['NOM'], \"Prénom\" : form_answer['Prénom']})\n",
    "\n",
    "form_answer['Nom'] = form_answer['Nom'].apply(normalize_name) #met une majuscule sur la première lettre puis tout en minuscule.\n",
    "form_answer['Prénom'] = form_answer['Prénom'].apply(normalize_name)\n",
    "\n",
    "form_answer['Nom'] = form_answer['Nom'].apply(remove_accents) #enlève les accents\n",
    "form_answer['Prénom'] = form_answer['Prénom'].apply(remove_accents)\n",
    "\n",
    "form_answer['Nom complet'] = form_answer['Nom'].str.strip() + ' ' + form_answer['Prénom'].str.strip()\n",
    "list_form = form_answer['Nom complet'].tolist()\n",
    "list_form[:5]"
   ]
  },
  {
   "cell_type": "code",
   "execution_count": 70,
   "metadata": {},
   "outputs": [
    {
     "name": "stdout",
     "output_type": "stream",
     "text": [
      "Payeurs qui ont répondu au formulaire : ['Brunel Lenny', 'Smail Samy', 'Therond Barnabe', 'De ferran Louise', 'Tannoury Charbel', 'Sorin Lucile', 'Losantos Solene', 'Sterin Gaspard', 'Chapelant Antoine', 'Meddeb Paul', 'Robert Quentin', 'Djombi moussi Isabelle alexandra paola', 'Bikanda Lara maella', 'Royer Jules', 'Deteix Joseph', 'Durand Victor', 'Balzer Elke', 'Kervin Chauke', 'Guichaoua Gwenn', 'Lhayani Samuel', 'Picamal Fanny', 'Hucher Lenny', 'Dubois Camille', 'Etheimer Paul', 'Bourgarel Joseph', 'Cotty Clara', 'Breuil Paul', 'Kleinmann Hanna', 'Dupont Ludivine', 'Bellicaud Alice', 'Escudie Pierre']\n",
      "Répondants qui n'ont pas payé : ['Zadora Martin', 'Baudry Nolan', 'Cormouls houles Blanche', 'Poux Raphael', 'Chabert Cyrianne', 'Andrieux Theo', 'Raspiller Franck', 'Piechaczyk Antonin', 'Zendron Hubert']\n",
      "Payeurs qui n'ont pas répondu au formulaire : ['Hadj mohand Yanis', 'Vambert Tristan', 'De la rochefordiere Alfred']\n",
      "Nombre de payeurs qui ont répondu au formulaire : 31\n",
      "Nombre de répondants qui n'ont pas payé : 9\n",
      "Nombre de payeurs qui n'ont pas répondu au formulaire : 3\n"
     ]
    }
   ],
   "source": [
    "list_prompt_payer = []\n",
    "list_delinquent_payer = []\n",
    "list_prompt_payer_without_form = []\n",
    "\n",
    "list_prompt_payer = list(set(list_cotisantsPSL).intersection(set(list_form)))\n",
    "#we got the prompt payer, now we want to see who answered the form but didn't pay us. Then, we would want to see who paid but didn't fill the form.\n",
    "\n",
    "#those who answered the form without paying\n",
    "list_delinquent_payer = list(set(list_form).difference(set(list_cotisantsPSL)))\n",
    "\n",
    "#those who paid without filling the form\n",
    "list_prompt_payer_without_form = list(set(list_cotisantsPSL).difference(set(list_form)))\n",
    "\n",
    "#difference returns the elements that are present in the first object but not in the second.\n",
    "\n",
    "print(\"Payeurs qui ont répondu au formulaire :\", list_prompt_payer)\n",
    "print(\"Répondants qui n'ont pas payé :\", list_delinquent_payer)\n",
    "print(\"Payeurs qui n'ont pas répondu au formulaire :\", list_prompt_payer_without_form)\n",
    "print(\"Nombre de payeurs qui ont répondu au formulaire :\", len(list_prompt_payer))\n",
    "print(\"Nombre de répondants qui n'ont pas payé :\", len(list_delinquent_payer))\n",
    "print(\"Nombre de payeurs qui n'ont pas répondu au formulaire :\", len(list_prompt_payer_without_form))"
   ]
  },
  {
   "cell_type": "code",
   "execution_count": 72,
   "metadata": {},
   "outputs": [],
   "source": [
    "list_prompt_payer = pd.DataFrame(list_prompt_payer, columns=['email'])\n",
    "list_prompt_payer_without_form = pd.DataFrame(list_prompt_payer_without_form, columns=['email'])\n",
    "list_delinquent_payer = pd.DataFrame(list_delinquent_payer, columns=['email'])\n",
    "\n",
    "list_prompt_payer.to_json('data/prompt_payers.json', orient='records')\n",
    "list_prompt_payer_without_form.to_json('data/prompt_payers_without_form.json', orient='records')\n",
    "list_delinquent_payer.to_json('data/delinquent_payers.json', orient='records')"
   ]
  },
  {
   "cell_type": "code",
   "execution_count": null,
   "metadata": {},
   "outputs": [],
   "source": []
  }
 ],
 "metadata": {
  "kernelspec": {
   "display_name": "base",
   "language": "python",
   "name": "python3"
  },
  "language_info": {
   "codemirror_mode": {
    "name": "ipython",
    "version": 3
   },
   "file_extension": ".py",
   "mimetype": "text/x-python",
   "name": "python",
   "nbconvert_exporter": "python",
   "pygments_lexer": "ipython3",
   "version": "3.11.5"
  }
 },
 "nbformat": 4,
 "nbformat_minor": 2
}
