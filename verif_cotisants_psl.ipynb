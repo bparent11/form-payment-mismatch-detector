{
 "cells": [
  {
   "cell_type": "code",
   "execution_count": 105,
   "metadata": {},
   "outputs": [],
   "source": [
    "import pandas as pd\n",
    "import numpy as np\n",
    "import unicodedata as ud"
   ]
  },
  {
   "cell_type": "code",
   "execution_count": 106,
   "metadata": {},
   "outputs": [
    {
     "data": {
      "text/html": [
       "<div>\n",
       "<style scoped>\n",
       "    .dataframe tbody tr th:only-of-type {\n",
       "        vertical-align: middle;\n",
       "    }\n",
       "\n",
       "    .dataframe tbody tr th {\n",
       "        vertical-align: top;\n",
       "    }\n",
       "\n",
       "    .dataframe thead th {\n",
       "        text-align: right;\n",
       "    }\n",
       "</style>\n",
       "<table border=\"1\" class=\"dataframe\">\n",
       "  <thead>\n",
       "    <tr style=\"text-align: right;\">\n",
       "      <th></th>\n",
       "      <th>Référence commande</th>\n",
       "      <th>Date de la commande</th>\n",
       "      <th>Statut de la commande</th>\n",
       "      <th>Nom adhérent</th>\n",
       "      <th>Prénom adhérent</th>\n",
       "      <th>Carte d'adhérent</th>\n",
       "      <th>Nom payeur</th>\n",
       "      <th>Prénom payeur</th>\n",
       "      <th>Email payeur</th>\n",
       "      <th>Raison sociale</th>\n",
       "      <th>Moyen de paiement</th>\n",
       "      <th>Tarif</th>\n",
       "      <th>Montant tarif</th>\n",
       "      <th>Code Promo</th>\n",
       "      <th>Montant code promo</th>\n",
       "      <th>Commentaires</th>\n",
       "    </tr>\n",
       "  </thead>\n",
       "  <tbody>\n",
       "    <tr>\n",
       "      <th>0</th>\n",
       "      <td>101801293</td>\n",
       "      <td>2024-09-12 14:44:00</td>\n",
       "      <td>Validé</td>\n",
       "      <td>Kervin</td>\n",
       "      <td>Chauke</td>\n",
       "      <td>Voir la carte d'adhérent - PDF</td>\n",
       "      <td>Kervin</td>\n",
       "      <td>Chauke</td>\n",
       "      <td>chaukekervin@gmail.com</td>\n",
       "      <td>NaN</td>\n",
       "      <td>Carte bancaire</td>\n",
       "      <td>Cotisation PSL Sport</td>\n",
       "      <td>20</td>\n",
       "      <td>NaN</td>\n",
       "      <td>NaN</td>\n",
       "      <td>NaN</td>\n",
       "    </tr>\n",
       "    <tr>\n",
       "      <th>1</th>\n",
       "      <td>101772443</td>\n",
       "      <td>2024-09-12 11:30:00</td>\n",
       "      <td>Validé</td>\n",
       "      <td>ROBERT</td>\n",
       "      <td>Quentin</td>\n",
       "      <td>Voir la carte d'adhérent - PDF</td>\n",
       "      <td>ROBERT</td>\n",
       "      <td>Quentin</td>\n",
       "      <td>quentin.robert@etu.minesparis.psl.eu</td>\n",
       "      <td>NaN</td>\n",
       "      <td>Carte bancaire</td>\n",
       "      <td>Cotisation PSL Sport</td>\n",
       "      <td>20</td>\n",
       "      <td>NaN</td>\n",
       "      <td>NaN</td>\n",
       "      <td>NaN</td>\n",
       "    </tr>\n",
       "  </tbody>\n",
       "</table>\n",
       "</div>"
      ],
      "text/plain": [
       "   Référence commande Date de la commande Statut de la commande Nom adhérent  \\\n",
       "0           101801293 2024-09-12 14:44:00                Validé       Kervin   \n",
       "1           101772443 2024-09-12 11:30:00                Validé       ROBERT   \n",
       "\n",
       "  Prénom adhérent                Carte d'adhérent Nom payeur Prénom payeur  \\\n",
       "0          Chauke  Voir la carte d'adhérent - PDF     Kervin        Chauke   \n",
       "1         Quentin  Voir la carte d'adhérent - PDF     ROBERT       Quentin   \n",
       "\n",
       "                           Email payeur  Raison sociale Moyen de paiement  \\\n",
       "0                chaukekervin@gmail.com             NaN    Carte bancaire   \n",
       "1  quentin.robert@etu.minesparis.psl.eu             NaN    Carte bancaire   \n",
       "\n",
       "                  Tarif  Montant tarif  Code Promo  Montant code promo  \\\n",
       "0  Cotisation PSL Sport             20         NaN                 NaN   \n",
       "1  Cotisation PSL Sport             20         NaN                 NaN   \n",
       "\n",
       "   Commentaires  \n",
       "0           NaN  \n",
       "1           NaN  "
      ]
     },
     "execution_count": 106,
     "metadata": {},
     "output_type": "execute_result"
    }
   ],
   "source": [
    "cotisantsPSL = pd.read_excel('cotisantsPSL.xlsx')\n",
    "cotisantsPSL.head(2)"
   ]
  },
  {
   "cell_type": "code",
   "execution_count": 107,
   "metadata": {},
   "outputs": [],
   "source": [
    "def normalize_name(name):\n",
    "    return name.capitalize()\n",
    "\n",
    "def remove_accents(input_str):\n",
    "    # Normalisation en forme 'NFKD' pour décomposer les accents\n",
    "    nfkd_form = ud.normalize('NFKD', input_str)\n",
    "    # Garder uniquement les caractères non diacritiques (sans accent)\n",
    "    return ''.join([c for c in nfkd_form if not ud.combining(c)])"
   ]
  },
  {
   "cell_type": "code",
   "execution_count": 108,
   "metadata": {},
   "outputs": [
    {
     "data": {
      "text/plain": [
       "['Kervin Chauke',\n",
       " 'Robert Quentin',\n",
       " 'Bourgarel Joseph',\n",
       " 'Tannoury Charbel',\n",
       " 'Picamal Fanny']"
      ]
     },
     "execution_count": 108,
     "metadata": {},
     "output_type": "execute_result"
    }
   ],
   "source": [
    "cotisantsPSL = pd.DataFrame({\"Nom\" : cotisantsPSL['Nom adhérent'], \"Prénom\" : cotisantsPSL['Prénom adhérent']})\n",
    "\n",
    "cotisantsPSL['Nom'] = cotisantsPSL['Nom'].apply(normalize_name)\n",
    "cotisantsPSL['Prénom'] = cotisantsPSL['Prénom'].apply(normalize_name)\n",
    "\n",
    "cotisantsPSL['Nom'] = cotisantsPSL['Nom'].apply(remove_accents)\n",
    "cotisantsPSL['Prénom'] = cotisantsPSL['Prénom'].apply(remove_accents)\n",
    "\n",
    "cotisantsPSL['Nom Complet'] = cotisantsPSL['Nom'].str.strip() + ' ' + cotisantsPSL['Prénom'].str.strip()\n",
    "list_cotisantsPSL = cotisantsPSL['Nom Complet'].tolist()\n",
    "list_cotisantsPSL[:5]"
   ]
  },
  {
   "cell_type": "code",
   "execution_count": 109,
   "metadata": {},
   "outputs": [
    {
     "data": {
      "text/html": [
       "<div>\n",
       "<style scoped>\n",
       "    .dataframe tbody tr th:only-of-type {\n",
       "        vertical-align: middle;\n",
       "    }\n",
       "\n",
       "    .dataframe tbody tr th {\n",
       "        vertical-align: top;\n",
       "    }\n",
       "\n",
       "    .dataframe thead th {\n",
       "        text-align: right;\n",
       "    }\n",
       "</style>\n",
       "<table border=\"1\" class=\"dataframe\">\n",
       "  <thead>\n",
       "    <tr style=\"text-align: right;\">\n",
       "      <th></th>\n",
       "      <th>NOM</th>\n",
       "      <th>Prénom</th>\n",
       "      <th>Sexe</th>\n",
       "      <th>Genre</th>\n",
       "      <th>Adresse-mail</th>\n",
       "      <th>Numero de téléphone</th>\n",
       "      <th>Payé ?</th>\n",
       "      <th>Photo</th>\n",
       "      <th>Envoyé à PSL ?</th>\n",
       "      <th>Validé par PSL ?</th>\n",
       "    </tr>\n",
       "  </thead>\n",
       "  <tbody>\n",
       "    <tr>\n",
       "      <th>0</th>\n",
       "      <td>SMAIL</td>\n",
       "      <td>Samy</td>\n",
       "      <td>M</td>\n",
       "      <td>Monsieur</td>\n",
       "      <td>samy.smail@etu.minesparis.psl.eu</td>\n",
       "      <td>661454702</td>\n",
       "      <td>OUI</td>\n",
       "      <td>23smail - Samy Smail.jpg</td>\n",
       "      <td>OUI</td>\n",
       "      <td>En attente</td>\n",
       "    </tr>\n",
       "    <tr>\n",
       "      <th>1</th>\n",
       "      <td>SORIN</td>\n",
       "      <td>Lucile</td>\n",
       "      <td>F</td>\n",
       "      <td>Madame</td>\n",
       "      <td>lucile.sorin@etu.minesparis.psl.eu</td>\n",
       "      <td>682250149</td>\n",
       "      <td>OUI</td>\n",
       "      <td>IMG_5050 - Lucile Sorin.jpeg</td>\n",
       "      <td>OUI</td>\n",
       "      <td>En attente</td>\n",
       "    </tr>\n",
       "  </tbody>\n",
       "</table>\n",
       "</div>"
      ],
      "text/plain": [
       "     NOM  Prénom Sexe     Genre                        Adresse-mail  \\\n",
       "0  SMAIL    Samy    M  Monsieur    samy.smail@etu.minesparis.psl.eu   \n",
       "1  SORIN  Lucile    F    Madame  lucile.sorin@etu.minesparis.psl.eu   \n",
       "\n",
       "   Numero de téléphone Payé ?                         Photo  Envoyé à PSL ?  \\\n",
       "0            661454702     OUI      23smail - Samy Smail.jpg            OUI   \n",
       "1            682250149     OUI  IMG_5050 - Lucile Sorin.jpeg            OUI   \n",
       "\n",
       "  Validé par PSL ?   \n",
       "0       En attente   \n",
       "1       En attente   "
      ]
     },
     "execution_count": 109,
     "metadata": {},
     "output_type": "execute_result"
    }
   ],
   "source": [
    "form_answer = pd.read_excel('formResults.xlsx')\n",
    "form_answer.rename(columns={'Adresse mail ':'Adresse-mail'}, inplace=True)\n",
    "form_answer.head(2)"
   ]
  },
  {
   "cell_type": "code",
   "execution_count": 110,
   "metadata": {},
   "outputs": [
    {
     "data": {
      "text/plain": [
       "['Smail Samy',\n",
       " 'Sorin Lucile',\n",
       " 'Losantos Solene',\n",
       " 'Bellicaud Alice',\n",
       " 'Etheimer Paul']"
      ]
     },
     "execution_count": 110,
     "metadata": {},
     "output_type": "execute_result"
    }
   ],
   "source": [
    "form_answer = pd.DataFrame({\"Nom\" : form_answer['NOM'], \"Prénom\" : form_answer['Prénom']})\n",
    "\n",
    "form_answer['Nom'] = form_answer['Nom'].apply(normalize_name) #met une majuscule sur la première lettre puis tout en minuscule.\n",
    "form_answer['Prénom'] = form_answer['Prénom'].apply(normalize_name)\n",
    "\n",
    "form_answer['Nom'] = form_answer['Nom'].apply(remove_accents) #enlève les accents\n",
    "form_answer['Prénom'] = form_answer['Prénom'].apply(remove_accents)\n",
    "\n",
    "form_answer['Nom complet'] = form_answer['Nom'].str.strip() + ' ' + form_answer['Prénom'].str.strip()\n",
    "list_form = form_answer['Nom complet'].tolist()\n",
    "list_form[:5]"
   ]
  },
  {
   "cell_type": "code",
   "execution_count": 111,
   "metadata": {},
   "outputs": [
    {
     "name": "stdout",
     "output_type": "stream",
     "text": [
      "Payeurs qui ont répondu au formulaire : ['Brunel Lenny', 'Smail Samy', 'Therond Barnabe', 'De ferran Louise', 'Tannoury Charbel', 'Sorin Lucile', 'Losantos Solene', 'Sterin Gaspard', 'Chapelant Antoine', 'Meddeb Paul', 'Robert Quentin', 'Djombi moussi Isabelle alexandra paola', 'Bikanda Lara maella', 'Royer Jules', 'Deteix Joseph', 'Durand Victor', 'Balzer Elke', 'Kervin Chauke', 'Guichaoua Gwenn', 'Lhayani Samuel', 'Picamal Fanny', 'Hucher Lenny', 'Dubois Camille', 'Etheimer Paul', 'Bourgarel Joseph', 'Cotty Clara', 'Breuil Paul', 'Kleinmann Hanna', 'Dupont Ludivine', 'Bellicaud Alice', 'Escudie Pierre']\n",
      "Répondants qui n'ont pas payé : ['Zadora Martin', 'Baudry Nolan', 'Cormouls houles Blanche', 'Poux Raphael', 'Chabert Cyrianne', 'Andrieux Theo', 'Raspiller Franck', 'Piechaczyk Antonin', 'Zendron Hubert']\n",
      "Payeurs qui n'ont pas répondu au formulaire : ['Hadj mohand Yanis', 'Vambert Tristan', 'De la rochefordiere Alfred']\n",
      "Nombre de payeurs qui ont répondu au formulaire : 31\n",
      "Nombre de répondants qui n'ont pas payé : 9\n",
      "Nombre de payeurs qui n'ont pas répondu au formulaire : 3\n"
     ]
    }
   ],
   "source": [
    "list_prompt_payer = []\n",
    "list_delinquent_payer = []\n",
    "list_prompt_payer_without_form = []\n",
    "\n",
    "list_prompt_payer = list(set(list_cotisantsPSL).intersection(set(list_form)))\n",
    "#we got the prompt payer, now we want to see who answered the form but didn't pay us. Then, we would want to see who paid but didn't fill the form.\n",
    "\n",
    "#those who answered the form without paying\n",
    "list_delinquent_payer = list(set(list_form).difference(set(list_cotisantsPSL)))\n",
    "\n",
    "#those who paid without filling the form\n",
    "list_prompt_payer_without_form = list(set(list_cotisantsPSL).difference(set(list_form)))\n",
    "\n",
    "#difference returns the elements that are present in the first object but not in the second.\n",
    "\n",
    "print(\"Payeurs qui ont répondu au formulaire :\", list_prompt_payer)\n",
    "print(\"Répondants qui n'ont pas payé :\", list_delinquent_payer)\n",
    "print(\"Payeurs qui n'ont pas répondu au formulaire :\", list_prompt_payer_without_form)\n",
    "print(\"Nombre de payeurs qui ont répondu au formulaire :\", len(list_prompt_payer))\n",
    "print(\"Nombre de répondants qui n'ont pas payé :\", len(list_delinquent_payer))\n",
    "print(\"Nombre de payeurs qui n'ont pas répondu au formulaire :\", len(list_prompt_payer_without_form))"
   ]
  },
  {
   "cell_type": "code",
   "execution_count": 112,
   "metadata": {},
   "outputs": [],
   "source": [
    "list_prompt_payer = pd.DataFrame(list_prompt_payer, columns=['a payé et répondu au form'])\n",
    "list_prompt_payer_without_form = pd.DataFrame(list_prompt_payer_without_form, columns=['a payé sans répondre au form'])\n",
    "list_delinquent_payer = pd.DataFrame(list_delinquent_payer, columns=['a répondu au form sans payer'])\n",
    "\n",
    "list_prompt_payer.to_json('data/prompt_payers.json', orient='records')\n",
    "list_prompt_payer_without_form.to_json('data/prompt_payers_without_form.json', orient='records')\n",
    "list_delinquent_payer.to_json('data/delinquent_payers.json', orient='records')"
   ]
  },
  {
   "cell_type": "markdown",
   "metadata": {},
   "source": [
    "### Export data in .xlsx format"
   ]
  },
  {
   "cell_type": "code",
   "execution_count": 113,
   "metadata": {},
   "outputs": [],
   "source": [
    "max_length = max(len(list_prompt_payer), len(list_prompt_payer_without_form), len(list_delinquent_payer))\n",
    "\n",
    "list_prompt_payer = list_prompt_payer.reindex(range(max_length))\n",
    "list_prompt_payer_without_form = list_prompt_payer_without_form.reindex(range(max_length))\n",
    "list_delinquent_payer = list_delinquent_payer.reindex(range(max_length))"
   ]
  },
  {
   "cell_type": "code",
   "execution_count": 114,
   "metadata": {},
   "outputs": [
    {
     "ename": "PermissionError",
     "evalue": "[Errno 13] Permission denied: 'data/final_df.xlsx'",
     "output_type": "error",
     "traceback": [
      "\u001b[1;31m---------------------------------------------------------------------------\u001b[0m",
      "\u001b[1;31mPermissionError\u001b[0m                           Traceback (most recent call last)",
      "Cell \u001b[1;32mIn[114], line 2\u001b[0m\n\u001b[0;32m      1\u001b[0m final_df \u001b[38;5;241m=\u001b[39m pd\u001b[38;5;241m.\u001b[39mconcat([list_prompt_payer, list_prompt_payer_without_form, list_delinquent_payer], axis\u001b[38;5;241m=\u001b[39m\u001b[38;5;241m1\u001b[39m)\n\u001b[1;32m----> 2\u001b[0m \u001b[43mfinal_df\u001b[49m\u001b[38;5;241;43m.\u001b[39;49m\u001b[43mto_excel\u001b[49m\u001b[43m(\u001b[49m\u001b[38;5;124;43m\"\u001b[39;49m\u001b[38;5;124;43mdata/final_df.xlsx\u001b[39;49m\u001b[38;5;124;43m\"\u001b[39;49m\u001b[43m,\u001b[49m\u001b[43m \u001b[49m\u001b[43mindex\u001b[49m\u001b[38;5;241;43m=\u001b[39;49m\u001b[38;5;28;43;01mFalse\u001b[39;49;00m\u001b[43m)\u001b[49m\n",
      "File \u001b[1;32mc:\\miniconda\\Lib\\site-packages\\pandas\\util\\_decorators.py:333\u001b[0m, in \u001b[0;36mdeprecate_nonkeyword_arguments.<locals>.decorate.<locals>.wrapper\u001b[1;34m(*args, **kwargs)\u001b[0m\n\u001b[0;32m    327\u001b[0m \u001b[38;5;28;01mif\u001b[39;00m \u001b[38;5;28mlen\u001b[39m(args) \u001b[38;5;241m>\u001b[39m num_allow_args:\n\u001b[0;32m    328\u001b[0m     warnings\u001b[38;5;241m.\u001b[39mwarn(\n\u001b[0;32m    329\u001b[0m         msg\u001b[38;5;241m.\u001b[39mformat(arguments\u001b[38;5;241m=\u001b[39m_format_argument_list(allow_args)),\n\u001b[0;32m    330\u001b[0m         \u001b[38;5;167;01mFutureWarning\u001b[39;00m,\n\u001b[0;32m    331\u001b[0m         stacklevel\u001b[38;5;241m=\u001b[39mfind_stack_level(),\n\u001b[0;32m    332\u001b[0m     )\n\u001b[1;32m--> 333\u001b[0m \u001b[38;5;28;01mreturn\u001b[39;00m \u001b[43mfunc\u001b[49m\u001b[43m(\u001b[49m\u001b[38;5;241;43m*\u001b[39;49m\u001b[43margs\u001b[49m\u001b[43m,\u001b[49m\u001b[43m \u001b[49m\u001b[38;5;241;43m*\u001b[39;49m\u001b[38;5;241;43m*\u001b[39;49m\u001b[43mkwargs\u001b[49m\u001b[43m)\u001b[49m\n",
      "File \u001b[1;32mc:\\miniconda\\Lib\\site-packages\\pandas\\core\\generic.py:2414\u001b[0m, in \u001b[0;36mNDFrame.to_excel\u001b[1;34m(self, excel_writer, sheet_name, na_rep, float_format, columns, header, index, index_label, startrow, startcol, engine, merge_cells, inf_rep, freeze_panes, storage_options, engine_kwargs)\u001b[0m\n\u001b[0;32m   2401\u001b[0m \u001b[38;5;28;01mfrom\u001b[39;00m \u001b[38;5;21;01mpandas\u001b[39;00m\u001b[38;5;21;01m.\u001b[39;00m\u001b[38;5;21;01mio\u001b[39;00m\u001b[38;5;21;01m.\u001b[39;00m\u001b[38;5;21;01mformats\u001b[39;00m\u001b[38;5;21;01m.\u001b[39;00m\u001b[38;5;21;01mexcel\u001b[39;00m \u001b[38;5;28;01mimport\u001b[39;00m ExcelFormatter\n\u001b[0;32m   2403\u001b[0m formatter \u001b[38;5;241m=\u001b[39m ExcelFormatter(\n\u001b[0;32m   2404\u001b[0m     df,\n\u001b[0;32m   2405\u001b[0m     na_rep\u001b[38;5;241m=\u001b[39mna_rep,\n\u001b[1;32m   (...)\u001b[0m\n\u001b[0;32m   2412\u001b[0m     inf_rep\u001b[38;5;241m=\u001b[39minf_rep,\n\u001b[0;32m   2413\u001b[0m )\n\u001b[1;32m-> 2414\u001b[0m \u001b[43mformatter\u001b[49m\u001b[38;5;241;43m.\u001b[39;49m\u001b[43mwrite\u001b[49m\u001b[43m(\u001b[49m\n\u001b[0;32m   2415\u001b[0m \u001b[43m    \u001b[49m\u001b[43mexcel_writer\u001b[49m\u001b[43m,\u001b[49m\n\u001b[0;32m   2416\u001b[0m \u001b[43m    \u001b[49m\u001b[43msheet_name\u001b[49m\u001b[38;5;241;43m=\u001b[39;49m\u001b[43msheet_name\u001b[49m\u001b[43m,\u001b[49m\n\u001b[0;32m   2417\u001b[0m \u001b[43m    \u001b[49m\u001b[43mstartrow\u001b[49m\u001b[38;5;241;43m=\u001b[39;49m\u001b[43mstartrow\u001b[49m\u001b[43m,\u001b[49m\n\u001b[0;32m   2418\u001b[0m \u001b[43m    \u001b[49m\u001b[43mstartcol\u001b[49m\u001b[38;5;241;43m=\u001b[39;49m\u001b[43mstartcol\u001b[49m\u001b[43m,\u001b[49m\n\u001b[0;32m   2419\u001b[0m \u001b[43m    \u001b[49m\u001b[43mfreeze_panes\u001b[49m\u001b[38;5;241;43m=\u001b[39;49m\u001b[43mfreeze_panes\u001b[49m\u001b[43m,\u001b[49m\n\u001b[0;32m   2420\u001b[0m \u001b[43m    \u001b[49m\u001b[43mengine\u001b[49m\u001b[38;5;241;43m=\u001b[39;49m\u001b[43mengine\u001b[49m\u001b[43m,\u001b[49m\n\u001b[0;32m   2421\u001b[0m \u001b[43m    \u001b[49m\u001b[43mstorage_options\u001b[49m\u001b[38;5;241;43m=\u001b[39;49m\u001b[43mstorage_options\u001b[49m\u001b[43m,\u001b[49m\n\u001b[0;32m   2422\u001b[0m \u001b[43m    \u001b[49m\u001b[43mengine_kwargs\u001b[49m\u001b[38;5;241;43m=\u001b[39;49m\u001b[43mengine_kwargs\u001b[49m\u001b[43m,\u001b[49m\n\u001b[0;32m   2423\u001b[0m \u001b[43m\u001b[49m\u001b[43m)\u001b[49m\n",
      "File \u001b[1;32mc:\\miniconda\\Lib\\site-packages\\pandas\\io\\formats\\excel.py:943\u001b[0m, in \u001b[0;36mExcelFormatter.write\u001b[1;34m(self, writer, sheet_name, startrow, startcol, freeze_panes, engine, storage_options, engine_kwargs)\u001b[0m\n\u001b[0;32m    941\u001b[0m     need_save \u001b[38;5;241m=\u001b[39m \u001b[38;5;28;01mFalse\u001b[39;00m\n\u001b[0;32m    942\u001b[0m \u001b[38;5;28;01melse\u001b[39;00m:\n\u001b[1;32m--> 943\u001b[0m     writer \u001b[38;5;241m=\u001b[39m \u001b[43mExcelWriter\u001b[49m\u001b[43m(\u001b[49m\n\u001b[0;32m    944\u001b[0m \u001b[43m        \u001b[49m\u001b[43mwriter\u001b[49m\u001b[43m,\u001b[49m\n\u001b[0;32m    945\u001b[0m \u001b[43m        \u001b[49m\u001b[43mengine\u001b[49m\u001b[38;5;241;43m=\u001b[39;49m\u001b[43mengine\u001b[49m\u001b[43m,\u001b[49m\n\u001b[0;32m    946\u001b[0m \u001b[43m        \u001b[49m\u001b[43mstorage_options\u001b[49m\u001b[38;5;241;43m=\u001b[39;49m\u001b[43mstorage_options\u001b[49m\u001b[43m,\u001b[49m\n\u001b[0;32m    947\u001b[0m \u001b[43m        \u001b[49m\u001b[43mengine_kwargs\u001b[49m\u001b[38;5;241;43m=\u001b[39;49m\u001b[43mengine_kwargs\u001b[49m\u001b[43m,\u001b[49m\n\u001b[0;32m    948\u001b[0m \u001b[43m    \u001b[49m\u001b[43m)\u001b[49m\n\u001b[0;32m    949\u001b[0m     need_save \u001b[38;5;241m=\u001b[39m \u001b[38;5;28;01mTrue\u001b[39;00m\n\u001b[0;32m    951\u001b[0m \u001b[38;5;28;01mtry\u001b[39;00m:\n",
      "File \u001b[1;32mc:\\miniconda\\Lib\\site-packages\\pandas\\io\\excel\\_openpyxl.py:61\u001b[0m, in \u001b[0;36mOpenpyxlWriter.__init__\u001b[1;34m(self, path, engine, date_format, datetime_format, mode, storage_options, if_sheet_exists, engine_kwargs, **kwargs)\u001b[0m\n\u001b[0;32m     57\u001b[0m \u001b[38;5;28;01mfrom\u001b[39;00m \u001b[38;5;21;01mopenpyxl\u001b[39;00m\u001b[38;5;21;01m.\u001b[39;00m\u001b[38;5;21;01mworkbook\u001b[39;00m \u001b[38;5;28;01mimport\u001b[39;00m Workbook\n\u001b[0;32m     59\u001b[0m engine_kwargs \u001b[38;5;241m=\u001b[39m combine_kwargs(engine_kwargs, kwargs)\n\u001b[1;32m---> 61\u001b[0m \u001b[38;5;28;43msuper\u001b[39;49m\u001b[43m(\u001b[49m\u001b[43m)\u001b[49m\u001b[38;5;241;43m.\u001b[39;49m\u001b[38;5;21;43m__init__\u001b[39;49m\u001b[43m(\u001b[49m\n\u001b[0;32m     62\u001b[0m \u001b[43m    \u001b[49m\u001b[43mpath\u001b[49m\u001b[43m,\u001b[49m\n\u001b[0;32m     63\u001b[0m \u001b[43m    \u001b[49m\u001b[43mmode\u001b[49m\u001b[38;5;241;43m=\u001b[39;49m\u001b[43mmode\u001b[49m\u001b[43m,\u001b[49m\n\u001b[0;32m     64\u001b[0m \u001b[43m    \u001b[49m\u001b[43mstorage_options\u001b[49m\u001b[38;5;241;43m=\u001b[39;49m\u001b[43mstorage_options\u001b[49m\u001b[43m,\u001b[49m\n\u001b[0;32m     65\u001b[0m \u001b[43m    \u001b[49m\u001b[43mif_sheet_exists\u001b[49m\u001b[38;5;241;43m=\u001b[39;49m\u001b[43mif_sheet_exists\u001b[49m\u001b[43m,\u001b[49m\n\u001b[0;32m     66\u001b[0m \u001b[43m    \u001b[49m\u001b[43mengine_kwargs\u001b[49m\u001b[38;5;241;43m=\u001b[39;49m\u001b[43mengine_kwargs\u001b[49m\u001b[43m,\u001b[49m\n\u001b[0;32m     67\u001b[0m \u001b[43m\u001b[49m\u001b[43m)\u001b[49m\n\u001b[0;32m     69\u001b[0m \u001b[38;5;66;03m# ExcelWriter replaced \"a\" by \"r+\" to allow us to first read the excel file from\u001b[39;00m\n\u001b[0;32m     70\u001b[0m \u001b[38;5;66;03m# the file and later write to it\u001b[39;00m\n\u001b[0;32m     71\u001b[0m \u001b[38;5;28;01mif\u001b[39;00m \u001b[38;5;124m\"\u001b[39m\u001b[38;5;124mr+\u001b[39m\u001b[38;5;124m\"\u001b[39m \u001b[38;5;129;01min\u001b[39;00m \u001b[38;5;28mself\u001b[39m\u001b[38;5;241m.\u001b[39m_mode:  \u001b[38;5;66;03m# Load from existing workbook\u001b[39;00m\n",
      "File \u001b[1;32mc:\\miniconda\\Lib\\site-packages\\pandas\\io\\excel\\_base.py:1246\u001b[0m, in \u001b[0;36mExcelWriter.__init__\u001b[1;34m(self, path, engine, date_format, datetime_format, mode, storage_options, if_sheet_exists, engine_kwargs)\u001b[0m\n\u001b[0;32m   1242\u001b[0m \u001b[38;5;28mself\u001b[39m\u001b[38;5;241m.\u001b[39m_handles \u001b[38;5;241m=\u001b[39m IOHandles(\n\u001b[0;32m   1243\u001b[0m     cast(IO[\u001b[38;5;28mbytes\u001b[39m], path), compression\u001b[38;5;241m=\u001b[39m{\u001b[38;5;124m\"\u001b[39m\u001b[38;5;124mcompression\u001b[39m\u001b[38;5;124m\"\u001b[39m: \u001b[38;5;28;01mNone\u001b[39;00m}\n\u001b[0;32m   1244\u001b[0m )\n\u001b[0;32m   1245\u001b[0m \u001b[38;5;28;01mif\u001b[39;00m \u001b[38;5;129;01mnot\u001b[39;00m \u001b[38;5;28misinstance\u001b[39m(path, ExcelWriter):\n\u001b[1;32m-> 1246\u001b[0m     \u001b[38;5;28mself\u001b[39m\u001b[38;5;241m.\u001b[39m_handles \u001b[38;5;241m=\u001b[39m \u001b[43mget_handle\u001b[49m\u001b[43m(\u001b[49m\n\u001b[0;32m   1247\u001b[0m \u001b[43m        \u001b[49m\u001b[43mpath\u001b[49m\u001b[43m,\u001b[49m\u001b[43m \u001b[49m\u001b[43mmode\u001b[49m\u001b[43m,\u001b[49m\u001b[43m \u001b[49m\u001b[43mstorage_options\u001b[49m\u001b[38;5;241;43m=\u001b[39;49m\u001b[43mstorage_options\u001b[49m\u001b[43m,\u001b[49m\u001b[43m \u001b[49m\u001b[43mis_text\u001b[49m\u001b[38;5;241;43m=\u001b[39;49m\u001b[38;5;28;43;01mFalse\u001b[39;49;00m\n\u001b[0;32m   1248\u001b[0m \u001b[43m    \u001b[49m\u001b[43m)\u001b[49m\n\u001b[0;32m   1249\u001b[0m \u001b[38;5;28mself\u001b[39m\u001b[38;5;241m.\u001b[39m_cur_sheet \u001b[38;5;241m=\u001b[39m \u001b[38;5;28;01mNone\u001b[39;00m\n\u001b[0;32m   1251\u001b[0m \u001b[38;5;28;01mif\u001b[39;00m date_format \u001b[38;5;129;01mis\u001b[39;00m \u001b[38;5;28;01mNone\u001b[39;00m:\n",
      "File \u001b[1;32mc:\\miniconda\\Lib\\site-packages\\pandas\\io\\common.py:882\u001b[0m, in \u001b[0;36mget_handle\u001b[1;34m(path_or_buf, mode, encoding, compression, memory_map, is_text, errors, storage_options)\u001b[0m\n\u001b[0;32m    873\u001b[0m         handle \u001b[38;5;241m=\u001b[39m \u001b[38;5;28mopen\u001b[39m(\n\u001b[0;32m    874\u001b[0m             handle,\n\u001b[0;32m    875\u001b[0m             ioargs\u001b[38;5;241m.\u001b[39mmode,\n\u001b[1;32m   (...)\u001b[0m\n\u001b[0;32m    878\u001b[0m             newline\u001b[38;5;241m=\u001b[39m\u001b[38;5;124m\"\u001b[39m\u001b[38;5;124m\"\u001b[39m,\n\u001b[0;32m    879\u001b[0m         )\n\u001b[0;32m    880\u001b[0m     \u001b[38;5;28;01melse\u001b[39;00m:\n\u001b[0;32m    881\u001b[0m         \u001b[38;5;66;03m# Binary mode\u001b[39;00m\n\u001b[1;32m--> 882\u001b[0m         handle \u001b[38;5;241m=\u001b[39m \u001b[38;5;28mopen\u001b[39m(handle, ioargs\u001b[38;5;241m.\u001b[39mmode)\n\u001b[0;32m    883\u001b[0m     handles\u001b[38;5;241m.\u001b[39mappend(handle)\n\u001b[0;32m    885\u001b[0m \u001b[38;5;66;03m# Convert BytesIO or file objects passed with an encoding\u001b[39;00m\n",
      "\u001b[1;31mPermissionError\u001b[0m: [Errno 13] Permission denied: 'data/final_df.xlsx'"
     ]
    }
   ],
   "source": [
    "final_df = pd.concat([list_prompt_payer, list_prompt_payer_without_form, list_delinquent_payer], axis=1)"
   ]
  },
  {
   "cell_type": "code",
   "execution_count": 115,
   "metadata": {},
   "outputs": [],
   "source": [
    "final_df.to_excel(\"data/final_df.xlsx\", index=False)"
   ]
  }
 ],
 "metadata": {
  "kernelspec": {
   "display_name": "base",
   "language": "python",
   "name": "python3"
  },
  "language_info": {
   "codemirror_mode": {
    "name": "ipython",
    "version": 3
   },
   "file_extension": ".py",
   "mimetype": "text/x-python",
   "name": "python",
   "nbconvert_exporter": "python",
   "pygments_lexer": "ipython3",
   "version": "3.11.5"
  }
 },
 "nbformat": 4,
 "nbformat_minor": 2
}
