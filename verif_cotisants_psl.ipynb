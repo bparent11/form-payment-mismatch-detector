{
 "cells": [
  {
   "cell_type": "code",
   "execution_count": 64,
   "metadata": {},
   "outputs": [],
   "source": [
    "import pandas as pd\n",
    "import numpy as np\n",
    "import unicodedata as ud"
   ]
  },
  {
   "cell_type": "code",
   "execution_count": null,
   "metadata": {},
   "outputs": [],
   "source": [
    "cotisantsPSL = pd.read_excel('cotisantsPSL.xlsx')\n",
    "cotisantsPSL.head(2)"
   ]
  },
  {
   "cell_type": "code",
   "execution_count": 66,
   "metadata": {},
   "outputs": [],
   "source": [
    "def normalize_name(name):\n",
    "    return name.capitalize()\n",
    "\n",
    "def remove_accents(input_str):\n",
    "    # Normalisation en forme 'NFKD' pour décomposer les accents\n",
    "    nfkd_form = ud.normalize('NFKD', input_str)\n",
    "    # Garder uniquement les caractères non diacritiques (sans accent)\n",
    "    return ''.join([c for c in nfkd_form if not ud.combining(c)])"
   ]
  },
  {
   "cell_type": "code",
   "execution_count": null,
   "metadata": {},
   "outputs": [],
   "source": [
    "cotisantsPSL = pd.DataFrame({\"Nom\" : cotisantsPSL['Nom adhérent'], \"Prénom\" : cotisantsPSL['Prénom adhérent']})\n",
    "\n",
    "cotisantsPSL['Nom'] = cotisantsPSL['Nom'].apply(normalize_name)\n",
    "cotisantsPSL['Prénom'] = cotisantsPSL['Prénom'].apply(normalize_name)\n",
    "\n",
    "cotisantsPSL['Nom'] = cotisantsPSL['Nom'].apply(remove_accents)\n",
    "cotisantsPSL['Prénom'] = cotisantsPSL['Prénom'].apply(remove_accents)\n",
    "\n",
    "cotisantsPSL['Nom Complet'] = cotisantsPSL['Nom'].str.strip() + ' ' + cotisantsPSL['Prénom'].str.strip()\n",
    "list_cotisantsPSL = cotisantsPSL['Nom Complet'].tolist()\n",
    "list_cotisantsPSL[:5]"
   ]
  },
  {
   "cell_type": "code",
   "execution_count": null,
   "metadata": {},
   "outputs": [],
   "source": [
    "form_answer = pd.read_excel('formResults.xlsx')\n",
    "form_answer.rename(columns={'Adresse mail ':'Adresse-mail'}, inplace=True)\n",
    "form_answer.head(2)"
   ]
  },
  {
   "cell_type": "code",
   "execution_count": null,
   "metadata": {},
   "outputs": [],
   "source": [
    "form_answer = pd.DataFrame({\"Nom\" : form_answer['NOM'], \"Prénom\" : form_answer['Prénom']})\n",
    "\n",
    "form_answer['Nom'] = form_answer['Nom'].apply(normalize_name) #met une majuscule sur la première lettre puis tout en minuscule.\n",
    "form_answer['Prénom'] = form_answer['Prénom'].apply(normalize_name)\n",
    "\n",
    "form_answer['Nom'] = form_answer['Nom'].apply(remove_accents) #enlève les accents\n",
    "form_answer['Prénom'] = form_answer['Prénom'].apply(remove_accents)\n",
    "\n",
    "form_answer['Nom complet'] = form_answer['Nom'].str.strip() + ' ' + form_answer['Prénom'].str.strip()\n",
    "list_form = form_answer['Nom complet'].tolist()\n",
    "list_form[:5]"
   ]
  },
  {
   "cell_type": "code",
   "execution_count": null,
   "metadata": {},
   "outputs": [],
   "source": [
    "list_prompt_payer = []\n",
    "list_delinquent_payer = []\n",
    "list_prompt_payer_without_form = []\n",
    "\n",
    "list_prompt_payer = list(set(list_cotisantsPSL).intersection(set(list_form)))\n",
    "#we got the prompt payer, now we want to see who answered the form but didn't pay us. Then, we would want to see who paid but didn't fill the form.\n",
    "\n",
    "#those who answered the form without paying\n",
    "list_delinquent_payer = list(set(list_form).difference(set(list_cotisantsPSL)))\n",
    "\n",
    "#those who paid without filling the form\n",
    "list_prompt_payer_without_form = list(set(list_cotisantsPSL).difference(set(list_form)))\n",
    "\n",
    "#difference returns the elements that are present in the first object but not in the second.\n",
    "\n",
    "print(\"Payeurs qui ont répondu au formulaire :\", list_prompt_payer)\n",
    "print(\"Répondants qui n'ont pas payé :\", list_delinquent_payer)\n",
    "print(\"Payeurs qui n'ont pas répondu au formulaire :\", list_prompt_payer_without_form)\n",
    "print(\"Nombre de payeurs qui ont répondu au formulaire :\", len(list_prompt_payer))\n",
    "print(\"Nombre de répondants qui n'ont pas payé :\", len(list_delinquent_payer))\n",
    "print(\"Nombre de payeurs qui n'ont pas répondu au formulaire :\", len(list_prompt_payer_without_form))"
   ]
  },
  {
   "cell_type": "code",
   "execution_count": 72,
   "metadata": {},
   "outputs": [],
   "source": [
    "list_prompt_payer = pd.DataFrame(list_prompt_payer, columns=['email'])\n",
    "list_prompt_payer_without_form = pd.DataFrame(list_prompt_payer_without_form, columns=['email'])\n",
    "list_delinquent_payer = pd.DataFrame(list_delinquent_payer, columns=['email'])\n",
    "\n",
    "list_prompt_payer.to_json('data/prompt_payers.json', orient='records')\n",
    "list_prompt_payer_without_form.to_json('data/prompt_payers_without_form.json', orient='records')\n",
    "list_delinquent_payer.to_json('data/delinquent_payers.json', orient='records')"
   ]
  }
 ],
 "metadata": {
  "kernelspec": {
   "display_name": "base",
   "language": "python",
   "name": "python3"
  },
  "language_info": {
   "codemirror_mode": {
    "name": "ipython",
    "version": 3
   },
   "file_extension": ".py",
   "mimetype": "text/x-python",
   "name": "python",
   "nbconvert_exporter": "python",
   "pygments_lexer": "ipython3",
   "version": "3.11.5"
  }
 },
 "nbformat": 4,
 "nbformat_minor": 2
}
